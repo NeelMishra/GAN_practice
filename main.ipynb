{
 "cells": [
  {
   "cell_type": "code",
   "execution_count": 2,
   "metadata": {},
   "outputs": [],
   "source": [
    "import torch\n",
    "from torch import nn"
   ]
  },
  {
   "cell_type": "code",
   "execution_count": 4,
   "metadata": {},
   "outputs": [],
   "source": [
    "def gen_block(input_dim, output_dim):\n",
    "    '''This function will give a combined layer consisting of \n",
    "    1) Linear layer.\n",
    "    2) Batch Regularization\n",
    "    3) Relu'''\n",
    "    return nn.Sequential(\n",
    "        nn.Linear(input_dim, output_dim),\n",
    "        nn.BatchNorm1d(output_dim),\n",
    "        nn.ReLU(inplace=True),\n",
    "    )"
   ]
  },
  {
   "cell_type": "code",
   "execution_count": 5,
   "metadata": {},
   "outputs": [],
   "source": [
    "class Generator:\n",
    "    '''This block defines the generator, which uses the gen_block function to declare layers'''\n",
    "    def __init__(self, img_dim, hidden_dim, z_dim):\n",
    "        super(Generator, self).__init__()\n",
    "        self.gen = nn.Sequential(\n",
    "            gen_block(z_dim, hidden_dim),\n",
    "            gen_block(hidden_dim, hidden_dim*4),\n",
    "            gen_block(hidden_dim*4, hidden_dim*8),\n",
    "            gen_block(hidden_dim*8, hidden_dim*16),\n",
    "            gen_block(hidden_dim*16, img_dim),\n",
    "            nn.Sigmoid()\n",
    "        )"
   ]
  },
  {
   "cell_type": "code",
   "execution_count": null,
   "metadata": {},
   "outputs": [],
   "source": []
  }
 ],
 "metadata": {
  "kernelspec": {
   "display_name": "Python 3",
   "language": "python",
   "name": "python3"
  },
  "language_info": {
   "codemirror_mode": {
    "name": "ipython",
    "version": 3
   },
   "file_extension": ".py",
   "mimetype": "text/x-python",
   "name": "python",
   "nbconvert_exporter": "python",
   "pygments_lexer": "ipython3",
   "version": "3.8.5"
  }
 },
 "nbformat": 4,
 "nbformat_minor": 4
}
